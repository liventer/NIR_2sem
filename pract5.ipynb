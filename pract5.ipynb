{
 "cells": [
  {
   "cell_type": "markdown",
   "metadata": {},
   "source": [
    "Набор данных: \"Успеваемость учащихся\" (https://www.kaggle.com/datasets/spscientist/students-performance-in-exams)"
   ]
  },
  {
   "cell_type": "code",
   "execution_count": 1,
   "metadata": {},
   "outputs": [],
   "source": [
    "import pandas as pd\n",
    "import numpy as np\n",
    "import matplotlib.pyplot as plt\n",
    "import seaborn as sns \n",
    "from sklearn.preprocessing import StandardScaler\n",
    "from sklearn.model_selection import train_test_split\n",
    "from sklearn.decomposition import PCA\n",
    "from sklearn.manifold import TSNE\n",
    "from plotly import express as px\n",
    "%matplotlib inline\n",
    "from sklearn.cluster import KMeans"
   ]
  },
  {
   "cell_type": "code",
   "execution_count": 2,
   "metadata": {},
   "outputs": [
    {
     "name": "stdout",
     "output_type": "stream",
     "text": [
      "<class 'pandas.core.frame.DataFrame'>\n",
      "RangeIndex: 1000 entries, 0 to 999\n",
      "Data columns (total 8 columns):\n",
      " #   Column                       Non-Null Count  Dtype \n",
      "---  ------                       --------------  ----- \n",
      " 0   gender                       1000 non-null   object\n",
      " 1   race/ethnicity               1000 non-null   object\n",
      " 2   parental level of education  1000 non-null   object\n",
      " 3   lunch                        1000 non-null   object\n",
      " 4   test preparation course      1000 non-null   object\n",
      " 5   math score                   1000 non-null   int64 \n",
      " 6   reading score                1000 non-null   int64 \n",
      " 7   writing score                1000 non-null   int64 \n",
      "dtypes: int64(3), object(5)\n",
      "memory usage: 62.6+ KB\n"
     ]
    }
   ],
   "source": [
    "data = pd.read_csv('StudentsPerformance.csv')\n",
    "data.info()"
   ]
  },
  {
   "cell_type": "code",
   "execution_count": 3,
   "metadata": {},
   "outputs": [
    {
     "data": {
      "text/plain": [
       "(1000, 8)"
      ]
     },
     "execution_count": 3,
     "metadata": {},
     "output_type": "execute_result"
    }
   ],
   "source": [
    "data.shape"
   ]
  },
  {
   "cell_type": "code",
   "execution_count": 4,
   "metadata": {},
   "outputs": [
    {
     "data": {
      "text/plain": [
       "gender                         object\n",
       "race/ethnicity                 object\n",
       "parental level of education    object\n",
       "lunch                          object\n",
       "test preparation course        object\n",
       "math score                      int64\n",
       "reading score                   int64\n",
       "writing score                   int64\n",
       "dtype: object"
      ]
     },
     "execution_count": 4,
     "metadata": {},
     "output_type": "execute_result"
    }
   ],
   "source": [
    "data.dtypes"
   ]
  },
  {
   "cell_type": "code",
   "execution_count": 5,
   "metadata": {},
   "outputs": [
    {
     "data": {
      "text/html": [
       "<div>\n",
       "<style scoped>\n",
       "    .dataframe tbody tr th:only-of-type {\n",
       "        vertical-align: middle;\n",
       "    }\n",
       "\n",
       "    .dataframe tbody tr th {\n",
       "        vertical-align: top;\n",
       "    }\n",
       "\n",
       "    .dataframe thead th {\n",
       "        text-align: right;\n",
       "    }\n",
       "</style>\n",
       "<table border=\"1\" class=\"dataframe\">\n",
       "  <thead>\n",
       "    <tr style=\"text-align: right;\">\n",
       "      <th></th>\n",
       "      <th>gender</th>\n",
       "      <th>race/ethnicity</th>\n",
       "      <th>parental level of education</th>\n",
       "      <th>lunch</th>\n",
       "      <th>test preparation course</th>\n",
       "      <th>math score</th>\n",
       "      <th>reading score</th>\n",
       "      <th>writing score</th>\n",
       "    </tr>\n",
       "  </thead>\n",
       "  <tbody>\n",
       "    <tr>\n",
       "      <th>0</th>\n",
       "      <td>female</td>\n",
       "      <td>group B</td>\n",
       "      <td>bachelor's degree</td>\n",
       "      <td>standard</td>\n",
       "      <td>none</td>\n",
       "      <td>72</td>\n",
       "      <td>72</td>\n",
       "      <td>74</td>\n",
       "    </tr>\n",
       "    <tr>\n",
       "      <th>1</th>\n",
       "      <td>female</td>\n",
       "      <td>group C</td>\n",
       "      <td>some college</td>\n",
       "      <td>standard</td>\n",
       "      <td>completed</td>\n",
       "      <td>69</td>\n",
       "      <td>90</td>\n",
       "      <td>88</td>\n",
       "    </tr>\n",
       "    <tr>\n",
       "      <th>2</th>\n",
       "      <td>female</td>\n",
       "      <td>group B</td>\n",
       "      <td>master's degree</td>\n",
       "      <td>standard</td>\n",
       "      <td>none</td>\n",
       "      <td>90</td>\n",
       "      <td>95</td>\n",
       "      <td>93</td>\n",
       "    </tr>\n",
       "    <tr>\n",
       "      <th>3</th>\n",
       "      <td>male</td>\n",
       "      <td>group A</td>\n",
       "      <td>associate's degree</td>\n",
       "      <td>free/reduced</td>\n",
       "      <td>none</td>\n",
       "      <td>47</td>\n",
       "      <td>57</td>\n",
       "      <td>44</td>\n",
       "    </tr>\n",
       "    <tr>\n",
       "      <th>4</th>\n",
       "      <td>male</td>\n",
       "      <td>group C</td>\n",
       "      <td>some college</td>\n",
       "      <td>standard</td>\n",
       "      <td>none</td>\n",
       "      <td>76</td>\n",
       "      <td>78</td>\n",
       "      <td>75</td>\n",
       "    </tr>\n",
       "    <tr>\n",
       "      <th>5</th>\n",
       "      <td>female</td>\n",
       "      <td>group B</td>\n",
       "      <td>associate's degree</td>\n",
       "      <td>standard</td>\n",
       "      <td>none</td>\n",
       "      <td>71</td>\n",
       "      <td>83</td>\n",
       "      <td>78</td>\n",
       "    </tr>\n",
       "  </tbody>\n",
       "</table>\n",
       "</div>"
      ],
      "text/plain": [
       "   gender race/ethnicity parental level of education         lunch  \\\n",
       "0  female        group B           bachelor's degree      standard   \n",
       "1  female        group C                some college      standard   \n",
       "2  female        group B             master's degree      standard   \n",
       "3    male        group A          associate's degree  free/reduced   \n",
       "4    male        group C                some college      standard   \n",
       "5  female        group B          associate's degree      standard   \n",
       "\n",
       "  test preparation course  math score  reading score  writing score  \n",
       "0                    none          72             72             74  \n",
       "1               completed          69             90             88  \n",
       "2                    none          90             95             93  \n",
       "3                    none          47             57             44  \n",
       "4                    none          76             78             75  \n",
       "5                    none          71             83             78  "
      ]
     },
     "execution_count": 5,
     "metadata": {},
     "output_type": "execute_result"
    }
   ],
   "source": [
    "data.head(6)"
   ]
  },
  {
   "cell_type": "code",
   "execution_count": 6,
   "metadata": {},
   "outputs": [
    {
     "data": {
      "text/plain": [
       "array(['math score', 'reading score', 'writing score'], dtype=object)"
      ]
     },
     "execution_count": 6,
     "metadata": {},
     "output_type": "execute_result"
    }
   ],
   "source": [
    "# отбор числовых колонок\n",
    "data_numeric = data.select_dtypes(include=[np.number])\n",
    "numeric_cols = data_numeric.columns.values\n",
    "numeric_cols"
   ]
  },
  {
   "cell_type": "code",
   "execution_count": 7,
   "metadata": {},
   "outputs": [
    {
     "data": {
      "text/plain": [
       "array(['gender', 'race/ethnicity', 'parental level of education', 'lunch',\n",
       "       'test preparation course'], dtype=object)"
      ]
     },
     "execution_count": 7,
     "metadata": {},
     "output_type": "execute_result"
    }
   ],
   "source": [
    "# отбор нечисловых колонок\n",
    "data_non_numeric = data.select_dtypes(exclude=[np.number])\n",
    "non_numeric_cols = data_non_numeric.columns.values\n",
    "non_numeric_cols"
   ]
  },
  {
   "cell_type": "code",
   "execution_count": 8,
   "metadata": {},
   "outputs": [
    {
     "name": "stdout",
     "output_type": "stream",
     "text": [
      "gender ['female' 'male']\n",
      "race/ethnicity ['group B' 'group C' 'group A' 'group D' 'group E']\n",
      "parental level of education [\"bachelor's degree\" 'some college' \"master's degree\" \"associate's degree\"\n",
      " 'high school' 'some high school']\n",
      "lunch ['standard' 'free/reduced']\n",
      "test preparation course ['none' 'completed']\n"
     ]
    }
   ],
   "source": [
    "# Просмотр уникальных категориальных данных\n",
    "for column in data.select_dtypes(include=['object']):\n",
    "    print(column, data[column].unique())"
   ]
  },
  {
   "cell_type": "code",
   "execution_count": 9,
   "metadata": {},
   "outputs": [
    {
     "data": {
      "text/html": [
       "<div>\n",
       "<style scoped>\n",
       "    .dataframe tbody tr th:only-of-type {\n",
       "        vertical-align: middle;\n",
       "    }\n",
       "\n",
       "    .dataframe tbody tr th {\n",
       "        vertical-align: top;\n",
       "    }\n",
       "\n",
       "    .dataframe thead th {\n",
       "        text-align: right;\n",
       "    }\n",
       "</style>\n",
       "<table border=\"1\" class=\"dataframe\">\n",
       "  <thead>\n",
       "    <tr style=\"text-align: right;\">\n",
       "      <th></th>\n",
       "      <th>math score</th>\n",
       "      <th>reading score</th>\n",
       "      <th>writing score</th>\n",
       "    </tr>\n",
       "  </thead>\n",
       "  <tbody>\n",
       "    <tr>\n",
       "      <th>count</th>\n",
       "      <td>1000.00000</td>\n",
       "      <td>1000.000000</td>\n",
       "      <td>1000.000000</td>\n",
       "    </tr>\n",
       "    <tr>\n",
       "      <th>mean</th>\n",
       "      <td>66.08900</td>\n",
       "      <td>69.169000</td>\n",
       "      <td>68.054000</td>\n",
       "    </tr>\n",
       "    <tr>\n",
       "      <th>std</th>\n",
       "      <td>15.16308</td>\n",
       "      <td>14.600192</td>\n",
       "      <td>15.195657</td>\n",
       "    </tr>\n",
       "    <tr>\n",
       "      <th>min</th>\n",
       "      <td>0.00000</td>\n",
       "      <td>17.000000</td>\n",
       "      <td>10.000000</td>\n",
       "    </tr>\n",
       "    <tr>\n",
       "      <th>25%</th>\n",
       "      <td>57.00000</td>\n",
       "      <td>59.000000</td>\n",
       "      <td>57.750000</td>\n",
       "    </tr>\n",
       "    <tr>\n",
       "      <th>50%</th>\n",
       "      <td>66.00000</td>\n",
       "      <td>70.000000</td>\n",
       "      <td>69.000000</td>\n",
       "    </tr>\n",
       "    <tr>\n",
       "      <th>75%</th>\n",
       "      <td>77.00000</td>\n",
       "      <td>79.000000</td>\n",
       "      <td>79.000000</td>\n",
       "    </tr>\n",
       "    <tr>\n",
       "      <th>max</th>\n",
       "      <td>100.00000</td>\n",
       "      <td>100.000000</td>\n",
       "      <td>100.000000</td>\n",
       "    </tr>\n",
       "  </tbody>\n",
       "</table>\n",
       "</div>"
      ],
      "text/plain": [
       "       math score  reading score  writing score\n",
       "count  1000.00000    1000.000000    1000.000000\n",
       "mean     66.08900      69.169000      68.054000\n",
       "std      15.16308      14.600192      15.195657\n",
       "min       0.00000      17.000000      10.000000\n",
       "25%      57.00000      59.000000      57.750000\n",
       "50%      66.00000      70.000000      69.000000\n",
       "75%      77.00000      79.000000      79.000000\n",
       "max     100.00000     100.000000     100.000000"
      ]
     },
     "execution_count": 9,
     "metadata": {},
     "output_type": "execute_result"
    }
   ],
   "source": [
    "data.describe()"
   ]
  },
  {
   "cell_type": "code",
   "execution_count": 10,
   "metadata": {},
   "outputs": [
    {
     "name": "stdout",
     "output_type": "stream",
     "text": [
      "gender - 0%\n",
      "race/ethnicity - 0%\n",
      "parental level of education - 0%\n",
      "lunch - 0%\n",
      "test preparation course - 0%\n",
      "math score - 0%\n",
      "reading score - 0%\n",
      "writing score - 0%\n"
     ]
    }
   ],
   "source": [
    "#процент пропущенных данных\n",
    "for col in data.columns:\n",
    "    pct_missing = np.mean(data[col].isnull())\n",
    "    print('{} - {}%'.format(col, round(pct_missing*100)))"
   ]
  },
  {
   "cell_type": "code",
   "execution_count": 3,
   "metadata": {},
   "outputs": [
    {
     "name": "stdout",
     "output_type": "stream",
     "text": [
      "Максимальное среднее значение reading score 2.1671553440683055e-16\n"
     ]
    }
   ],
   "source": [
    "scale_features_std = StandardScaler()\n",
    "\n",
    "list = ['math score', 'reading score', 'writing score']\n",
    "features_std = scale_features_std.fit_transform(data[list])\n",
    "xm = features_std.transpose()\n",
    "mean_scale =[np.mean(xm[i]) for i in range(3)]\n",
    "print(\"Максимальное среднее значение\", list[mean_scale.index(max(mean_scale))], max(mean_scale)) \n"
   ]
  },
  {
   "cell_type": "code",
   "execution_count": 4,
   "metadata": {},
   "outputs": [
    {
     "data": {
      "text/html": [
       "<div>\n",
       "<style scoped>\n",
       "    .dataframe tbody tr th:only-of-type {\n",
       "        vertical-align: middle;\n",
       "    }\n",
       "\n",
       "    .dataframe tbody tr th {\n",
       "        vertical-align: top;\n",
       "    }\n",
       "\n",
       "    .dataframe thead th {\n",
       "        text-align: right;\n",
       "    }\n",
       "</style>\n",
       "<table border=\"1\" class=\"dataframe\">\n",
       "  <thead>\n",
       "    <tr style=\"text-align: right;\">\n",
       "      <th></th>\n",
       "      <th>math score</th>\n",
       "      <th>reading score</th>\n",
       "      <th>writing score</th>\n",
       "      <th>gender_female</th>\n",
       "      <th>gender_male</th>\n",
       "      <th>race/ethnicity_group A</th>\n",
       "      <th>race/ethnicity_group B</th>\n",
       "      <th>race/ethnicity_group C</th>\n",
       "      <th>race/ethnicity_group D</th>\n",
       "      <th>race/ethnicity_group E</th>\n",
       "      <th>parental level of education_associate's degree</th>\n",
       "      <th>parental level of education_bachelor's degree</th>\n",
       "      <th>parental level of education_high school</th>\n",
       "      <th>parental level of education_master's degree</th>\n",
       "      <th>parental level of education_some college</th>\n",
       "      <th>parental level of education_some high school</th>\n",
       "      <th>lunch_free/reduced</th>\n",
       "      <th>lunch_standard</th>\n",
       "      <th>test preparation course_completed</th>\n",
       "      <th>test preparation course_none</th>\n",
       "    </tr>\n",
       "  </thead>\n",
       "  <tbody>\n",
       "    <tr>\n",
       "      <th>0</th>\n",
       "      <td>72</td>\n",
       "      <td>72</td>\n",
       "      <td>74</td>\n",
       "      <td>True</td>\n",
       "      <td>False</td>\n",
       "      <td>False</td>\n",
       "      <td>True</td>\n",
       "      <td>False</td>\n",
       "      <td>False</td>\n",
       "      <td>False</td>\n",
       "      <td>False</td>\n",
       "      <td>True</td>\n",
       "      <td>False</td>\n",
       "      <td>False</td>\n",
       "      <td>False</td>\n",
       "      <td>False</td>\n",
       "      <td>False</td>\n",
       "      <td>True</td>\n",
       "      <td>False</td>\n",
       "      <td>True</td>\n",
       "    </tr>\n",
       "    <tr>\n",
       "      <th>1</th>\n",
       "      <td>69</td>\n",
       "      <td>90</td>\n",
       "      <td>88</td>\n",
       "      <td>True</td>\n",
       "      <td>False</td>\n",
       "      <td>False</td>\n",
       "      <td>False</td>\n",
       "      <td>True</td>\n",
       "      <td>False</td>\n",
       "      <td>False</td>\n",
       "      <td>False</td>\n",
       "      <td>False</td>\n",
       "      <td>False</td>\n",
       "      <td>False</td>\n",
       "      <td>True</td>\n",
       "      <td>False</td>\n",
       "      <td>False</td>\n",
       "      <td>True</td>\n",
       "      <td>True</td>\n",
       "      <td>False</td>\n",
       "    </tr>\n",
       "    <tr>\n",
       "      <th>2</th>\n",
       "      <td>90</td>\n",
       "      <td>95</td>\n",
       "      <td>93</td>\n",
       "      <td>True</td>\n",
       "      <td>False</td>\n",
       "      <td>False</td>\n",
       "      <td>True</td>\n",
       "      <td>False</td>\n",
       "      <td>False</td>\n",
       "      <td>False</td>\n",
       "      <td>False</td>\n",
       "      <td>False</td>\n",
       "      <td>False</td>\n",
       "      <td>True</td>\n",
       "      <td>False</td>\n",
       "      <td>False</td>\n",
       "      <td>False</td>\n",
       "      <td>True</td>\n",
       "      <td>False</td>\n",
       "      <td>True</td>\n",
       "    </tr>\n",
       "    <tr>\n",
       "      <th>3</th>\n",
       "      <td>47</td>\n",
       "      <td>57</td>\n",
       "      <td>44</td>\n",
       "      <td>False</td>\n",
       "      <td>True</td>\n",
       "      <td>True</td>\n",
       "      <td>False</td>\n",
       "      <td>False</td>\n",
       "      <td>False</td>\n",
       "      <td>False</td>\n",
       "      <td>True</td>\n",
       "      <td>False</td>\n",
       "      <td>False</td>\n",
       "      <td>False</td>\n",
       "      <td>False</td>\n",
       "      <td>False</td>\n",
       "      <td>True</td>\n",
       "      <td>False</td>\n",
       "      <td>False</td>\n",
       "      <td>True</td>\n",
       "    </tr>\n",
       "    <tr>\n",
       "      <th>4</th>\n",
       "      <td>76</td>\n",
       "      <td>78</td>\n",
       "      <td>75</td>\n",
       "      <td>False</td>\n",
       "      <td>True</td>\n",
       "      <td>False</td>\n",
       "      <td>False</td>\n",
       "      <td>True</td>\n",
       "      <td>False</td>\n",
       "      <td>False</td>\n",
       "      <td>False</td>\n",
       "      <td>False</td>\n",
       "      <td>False</td>\n",
       "      <td>False</td>\n",
       "      <td>True</td>\n",
       "      <td>False</td>\n",
       "      <td>False</td>\n",
       "      <td>True</td>\n",
       "      <td>False</td>\n",
       "      <td>True</td>\n",
       "    </tr>\n",
       "  </tbody>\n",
       "</table>\n",
       "</div>"
      ],
      "text/plain": [
       "   math score  reading score  writing score  gender_female  gender_male  \\\n",
       "0          72             72             74           True        False   \n",
       "1          69             90             88           True        False   \n",
       "2          90             95             93           True        False   \n",
       "3          47             57             44          False         True   \n",
       "4          76             78             75          False         True   \n",
       "\n",
       "   race/ethnicity_group A  race/ethnicity_group B  race/ethnicity_group C  \\\n",
       "0                   False                    True                   False   \n",
       "1                   False                   False                    True   \n",
       "2                   False                    True                   False   \n",
       "3                    True                   False                   False   \n",
       "4                   False                   False                    True   \n",
       "\n",
       "   race/ethnicity_group D  race/ethnicity_group E  \\\n",
       "0                   False                   False   \n",
       "1                   False                   False   \n",
       "2                   False                   False   \n",
       "3                   False                   False   \n",
       "4                   False                   False   \n",
       "\n",
       "   parental level of education_associate's degree  \\\n",
       "0                                           False   \n",
       "1                                           False   \n",
       "2                                           False   \n",
       "3                                            True   \n",
       "4                                           False   \n",
       "\n",
       "   parental level of education_bachelor's degree  \\\n",
       "0                                           True   \n",
       "1                                          False   \n",
       "2                                          False   \n",
       "3                                          False   \n",
       "4                                          False   \n",
       "\n",
       "   parental level of education_high school  \\\n",
       "0                                    False   \n",
       "1                                    False   \n",
       "2                                    False   \n",
       "3                                    False   \n",
       "4                                    False   \n",
       "\n",
       "   parental level of education_master's degree  \\\n",
       "0                                        False   \n",
       "1                                        False   \n",
       "2                                         True   \n",
       "3                                        False   \n",
       "4                                        False   \n",
       "\n",
       "   parental level of education_some college  \\\n",
       "0                                     False   \n",
       "1                                      True   \n",
       "2                                     False   \n",
       "3                                     False   \n",
       "4                                      True   \n",
       "\n",
       "   parental level of education_some high school  lunch_free/reduced  \\\n",
       "0                                         False               False   \n",
       "1                                         False               False   \n",
       "2                                         False               False   \n",
       "3                                         False                True   \n",
       "4                                         False               False   \n",
       "\n",
       "   lunch_standard  test preparation course_completed  \\\n",
       "0            True                              False   \n",
       "1            True                               True   \n",
       "2            True                              False   \n",
       "3           False                              False   \n",
       "4            True                              False   \n",
       "\n",
       "   test preparation course_none  \n",
       "0                          True  \n",
       "1                         False  \n",
       "2                          True  \n",
       "3                          True  \n",
       "4                          True  "
      ]
     },
     "execution_count": 4,
     "metadata": {},
     "output_type": "execute_result"
    }
   ],
   "source": [
    "data1 = pd.get_dummies(data)\n",
    "data1.head(5)"
   ]
  },
  {
   "cell_type": "code",
   "execution_count": 13,
   "metadata": {},
   "outputs": [
    {
     "data": {
      "text/html": [
       "<div>\n",
       "<style scoped>\n",
       "    .dataframe tbody tr th:only-of-type {\n",
       "        vertical-align: middle;\n",
       "    }\n",
       "\n",
       "    .dataframe tbody tr th {\n",
       "        vertical-align: top;\n",
       "    }\n",
       "\n",
       "    .dataframe thead th {\n",
       "        text-align: right;\n",
       "    }\n",
       "</style>\n",
       "<table border=\"1\" class=\"dataframe\">\n",
       "  <thead>\n",
       "    <tr style=\"text-align: right;\">\n",
       "      <th></th>\n",
       "      <th>math score</th>\n",
       "      <th>reading score</th>\n",
       "      <th>writing score</th>\n",
       "      <th>gender_female</th>\n",
       "      <th>gender_male</th>\n",
       "      <th>race/ethnicity_group A</th>\n",
       "      <th>race/ethnicity_group B</th>\n",
       "      <th>race/ethnicity_group C</th>\n",
       "      <th>race/ethnicity_group D</th>\n",
       "      <th>race/ethnicity_group E</th>\n",
       "      <th>parental level of education_associate's degree</th>\n",
       "      <th>parental level of education_bachelor's degree</th>\n",
       "      <th>parental level of education_high school</th>\n",
       "      <th>parental level of education_master's degree</th>\n",
       "      <th>parental level of education_some college</th>\n",
       "      <th>parental level of education_some high school</th>\n",
       "      <th>lunch_free/reduced</th>\n",
       "      <th>lunch_standard</th>\n",
       "      <th>test preparation course_completed</th>\n",
       "      <th>test preparation course_none</th>\n",
       "    </tr>\n",
       "  </thead>\n",
       "  <tbody>\n",
       "    <tr>\n",
       "      <th>math score</th>\n",
       "      <td>1.000000</td>\n",
       "      <td>0.817580</td>\n",
       "      <td>0.802642</td>\n",
       "      <td>-0.167982</td>\n",
       "      <td>0.167982</td>\n",
       "      <td>-0.091977</td>\n",
       "      <td>-0.084250</td>\n",
       "      <td>-0.073387</td>\n",
       "      <td>0.050071</td>\n",
       "      <td>0.205855</td>\n",
       "      <td>0.063228</td>\n",
       "      <td>0.079664</td>\n",
       "      <td>-0.128725</td>\n",
       "      <td>0.060417</td>\n",
       "      <td>0.037056</td>\n",
       "      <td>-0.079852</td>\n",
       "      <td>-0.350877</td>\n",
       "      <td>0.350877</td>\n",
       "      <td>0.177702</td>\n",
       "      <td>-0.177702</td>\n",
       "    </tr>\n",
       "    <tr>\n",
       "      <th>reading score</th>\n",
       "      <td>0.817580</td>\n",
       "      <td>1.000000</td>\n",
       "      <td>0.954598</td>\n",
       "      <td>0.244313</td>\n",
       "      <td>-0.244313</td>\n",
       "      <td>-0.096274</td>\n",
       "      <td>-0.060283</td>\n",
       "      <td>-0.003074</td>\n",
       "      <td>0.035177</td>\n",
       "      <td>0.106712</td>\n",
       "      <td>0.064386</td>\n",
       "      <td>0.096024</td>\n",
       "      <td>-0.151068</td>\n",
       "      <td>0.106452</td>\n",
       "      <td>0.010782</td>\n",
       "      <td>-0.071369</td>\n",
       "      <td>-0.229560</td>\n",
       "      <td>0.229560</td>\n",
       "      <td>0.241780</td>\n",
       "      <td>-0.241780</td>\n",
       "    </tr>\n",
       "    <tr>\n",
       "      <th>writing score</th>\n",
       "      <td>0.802642</td>\n",
       "      <td>0.954598</td>\n",
       "      <td>1.000000</td>\n",
       "      <td>0.301225</td>\n",
       "      <td>-0.301225</td>\n",
       "      <td>-0.110714</td>\n",
       "      <td>-0.078254</td>\n",
       "      <td>-0.010203</td>\n",
       "      <td>0.082032</td>\n",
       "      <td>0.089077</td>\n",
       "      <td>0.064799</td>\n",
       "      <td>0.128297</td>\n",
       "      <td>-0.182211</td>\n",
       "      <td>0.125693</td>\n",
       "      <td>0.027989</td>\n",
       "      <td>-0.097326</td>\n",
       "      <td>-0.245769</td>\n",
       "      <td>0.245769</td>\n",
       "      <td>0.312946</td>\n",
       "      <td>-0.312946</td>\n",
       "    </tr>\n",
       "  </tbody>\n",
       "</table>\n",
       "</div>"
      ],
      "text/plain": [
       "               math score  reading score  writing score  gender_female  \\\n",
       "math score       1.000000       0.817580       0.802642      -0.167982   \n",
       "reading score    0.817580       1.000000       0.954598       0.244313   \n",
       "writing score    0.802642       0.954598       1.000000       0.301225   \n",
       "\n",
       "               gender_male  race/ethnicity_group A  race/ethnicity_group B  \\\n",
       "math score        0.167982               -0.091977               -0.084250   \n",
       "reading score    -0.244313               -0.096274               -0.060283   \n",
       "writing score    -0.301225               -0.110714               -0.078254   \n",
       "\n",
       "               race/ethnicity_group C  race/ethnicity_group D  \\\n",
       "math score                  -0.073387                0.050071   \n",
       "reading score               -0.003074                0.035177   \n",
       "writing score               -0.010203                0.082032   \n",
       "\n",
       "               race/ethnicity_group E  \\\n",
       "math score                   0.205855   \n",
       "reading score                0.106712   \n",
       "writing score                0.089077   \n",
       "\n",
       "               parental level of education_associate's degree  \\\n",
       "math score                                           0.063228   \n",
       "reading score                                        0.064386   \n",
       "writing score                                        0.064799   \n",
       "\n",
       "               parental level of education_bachelor's degree  \\\n",
       "math score                                          0.079664   \n",
       "reading score                                       0.096024   \n",
       "writing score                                       0.128297   \n",
       "\n",
       "               parental level of education_high school  \\\n",
       "math score                                   -0.128725   \n",
       "reading score                                -0.151068   \n",
       "writing score                                -0.182211   \n",
       "\n",
       "               parental level of education_master's degree  \\\n",
       "math score                                        0.060417   \n",
       "reading score                                     0.106452   \n",
       "writing score                                     0.125693   \n",
       "\n",
       "               parental level of education_some college  \\\n",
       "math score                                     0.037056   \n",
       "reading score                                  0.010782   \n",
       "writing score                                  0.027989   \n",
       "\n",
       "               parental level of education_some high school  \\\n",
       "math score                                        -0.079852   \n",
       "reading score                                     -0.071369   \n",
       "writing score                                     -0.097326   \n",
       "\n",
       "               lunch_free/reduced  lunch_standard  \\\n",
       "math score              -0.350877        0.350877   \n",
       "reading score           -0.229560        0.229560   \n",
       "writing score           -0.245769        0.245769   \n",
       "\n",
       "               test preparation course_completed  test preparation course_none  \n",
       "math score                              0.177702                     -0.177702  \n",
       "reading score                           0.241780                     -0.241780  \n",
       "writing score                           0.312946                     -0.312946  "
      ]
     },
     "execution_count": 13,
     "metadata": {},
     "output_type": "execute_result"
    }
   ],
   "source": [
    "pd.DataFrame.corr(data1).head(3)"
   ]
  },
  {
   "cell_type": "code",
   "execution_count": 37,
   "metadata": {},
   "outputs": [],
   "source": [
    "data_ = data.loc[:, data.columns.isin(['math score', 'reading score', 'writing score'])]"
   ]
  },
  {
   "cell_type": "code",
   "execution_count": 38,
   "metadata": {},
   "outputs": [
    {
     "data": {
      "text/plain": [
       "(1000, 3)"
      ]
     },
     "execution_count": 38,
     "metadata": {},
     "output_type": "execute_result"
    }
   ],
   "source": [
    "data_.shape"
   ]
  },
  {
   "cell_type": "code",
   "execution_count": 53,
   "metadata": {},
   "outputs": [
    {
     "data": {
      "text/plain": [
       "(1, 3)"
      ]
     },
     "execution_count": 53,
     "metadata": {},
     "output_type": "execute_result"
    }
   ],
   "source": [
    "import scipy.stats as stats\n",
    "z = np.abs(stats.zscore(data_))\n",
    "data_clean = data_[((z>3)).all(axis=1)]\n",
    "data_clean.shape"
   ]
  },
  {
   "cell_type": "code",
   "execution_count": 44,
   "metadata": {},
   "outputs": [
    {
     "data": {
      "text/html": [
       "<div>\n",
       "<style scoped>\n",
       "    .dataframe tbody tr th:only-of-type {\n",
       "        vertical-align: middle;\n",
       "    }\n",
       "\n",
       "    .dataframe tbody tr th {\n",
       "        vertical-align: top;\n",
       "    }\n",
       "\n",
       "    .dataframe thead th {\n",
       "        text-align: right;\n",
       "    }\n",
       "</style>\n",
       "<table border=\"1\" class=\"dataframe\">\n",
       "  <thead>\n",
       "    <tr style=\"text-align: right;\">\n",
       "      <th></th>\n",
       "      <th>math score</th>\n",
       "      <th>reading score</th>\n",
       "      <th>writing score</th>\n",
       "    </tr>\n",
       "  </thead>\n",
       "  <tbody>\n",
       "    <tr>\n",
       "      <th>59</th>\n",
       "      <td>0</td>\n",
       "      <td>17</td>\n",
       "      <td>10</td>\n",
       "    </tr>\n",
       "  </tbody>\n",
       "</table>\n",
       "</div>"
      ],
      "text/plain": [
       "    math score  reading score  writing score\n",
       "59           0             17             10"
      ]
     },
     "execution_count": 44,
     "metadata": {},
     "output_type": "execute_result"
    }
   ],
   "source": [
    "data_clean"
   ]
  },
  {
   "cell_type": "code",
   "execution_count": 5,
   "metadata": {},
   "outputs": [],
   "source": [
    "target = data1['math score']\n",
    "train = data1.drop(['math score', 'reading score', 'writing score', 'gender_female', 'race/ethnicity_group A', \"parental level of education_associate's degree\", 'lunch_standard', 'test preparation course_completed'], axis=1) #удалим линейно-зависимые из выборки"
   ]
  },
  {
   "cell_type": "code",
   "execution_count": 15,
   "metadata": {},
   "outputs": [
    {
     "name": "stdout",
     "output_type": "stream",
     "text": [
      "700 300\n"
     ]
    }
   ],
   "source": [
    "X_train, X_test, y_train, y_test = train_test_split(train, target, test_size = 0.3, random_state=42)\n",
    "print (X_train.shape[0], X_test.shape[0])"
   ]
  },
  {
   "cell_type": "code",
   "execution_count": 16,
   "metadata": {},
   "outputs": [],
   "source": [
    "pca = PCA()\n",
    "pca.fit(X_train)\n",
    "X_pca = pca.transform(X_train)"
   ]
  },
  {
   "cell_type": "code",
   "execution_count": 17,
   "metadata": {},
   "outputs": [
    {
     "name": "stdout",
     "output_type": "stream",
     "text": [
      "1 component: 14.7% of initial variance\n",
      "14.7 %\n",
      "-0.159 * gender_male + -0.110 * race/ethnicity_group B + 0.777 * race/ethnicity_group C + -0.569 * race/ethnicity_group D + -0.069 * race/ethnicity_group E + 0.009 * parental level of education_bachelor's degree + 0.108 * parental level of education_high school + -0.017 * parental level of education_master's degree + -0.020 * parental level of education_some college + -0.097 * parental level of education_some high school + -0.073 * lunch_free/reduced + -0.049 * test preparation course_none\n",
      "2 component: 12.33% of initial variance\n",
      "27.03 %\n",
      "3 component: 11.93% of initial variance\n",
      "38.96 %\n",
      "4 component: 11.15% of initial variance\n",
      "50.11 %\n",
      "5 component: 10.84% of initial variance\n",
      "60.95 %\n",
      "6 component: 9.88% of initial variance\n",
      "70.83 %\n",
      "7 component: 8.72% of initial variance\n",
      "79.55 %\n",
      "8 component: 7.93% of initial variance\n",
      "87.47999999999999 %\n",
      "9 component: 6.69% of initial variance\n",
      "94.16999999999999 %\n"
     ]
    }
   ],
   "source": [
    "a=0.0\n",
    "for i, component in enumerate(pca.components_):\n",
    "    a+=round(100 * pca.explained_variance_ratio_[i],2)\n",
    "    print(\"{} component: {}% of initial variance\".format(i + 1, round(100 * pca.explained_variance_ratio_[i], 2)))\n",
    "    print(a,'%')\n",
    "    if a>=90:\n",
    "        break\n",
    "    if i==0:\n",
    "        print(\" + \".join(\"%.3f * %s\" % (value, name) for value, name in zip(component,train.columns)))"
   ]
  },
  {
   "cell_type": "code",
   "execution_count": 18,
   "metadata": {},
   "outputs": [
    {
     "data": {
      "text/plain": [
       "<matplotlib.lines.Line2D at 0x120cf740e50>"
      ]
     },
     "execution_count": 18,
     "metadata": {},
     "output_type": "execute_result"
    },
    {
     "data": {
      "image/png": "[encoded data removed]",
      "text/plain": [
       "<Figure size 1000x700 with 1 Axes>"
      ]
     },
     "metadata": {},
     "output_type": "display_data"
    }
   ],
   "source": [
    "plt.figure(figsize=(10,7))\n",
    "plt.plot(np.cumsum(pca.explained_variance_ratio_), color='k', lw=2)\n",
    "plt.axhline(0.9, c='r')\n",
    "plt.axvline(8, c='b')"
   ]
  },
  {
   "cell_type": "code",
   "execution_count": 19,
   "metadata": {},
   "outputs": [],
   "source": [
    "tsne_model = TSNE(n_components=2, learning_rate='auto', random_state=0)\n",
    "X_tsne = tsne_model.fit_transform(features_std)"
   ]
  },
  {
   "cell_type": "code",
   "execution_count": 20,
   "metadata": {},
   "outputs": [
    {
     "data": {
      "image/png": "[encoded data removed]",
      "text/plain": [
       "<Figure size 1200x1000 with 1 Axes>"
      ]
     },
     "metadata": {},
     "output_type": "display_data"
    }
   ],
   "source": [
    "plt.figure(figsize=(12, 10))\n",
    "plt.scatter(X_tsne[:, 0], X_tsne[:, 1])\n",
    "plt.show()"
   ]
  },
  {
   "cell_type": "markdown",
   "metadata": {},
   "source": [
    "1. В наборе данных 1000 объектов и 8 признаков. (Авторами набора данных описание признаков не предусмотрено)\n",
    "    1) gender - пол\n",
    "        female - женский\n",
    "        male - мужсклй\n",
    "    2) race/ethnicity - раса\n",
    "        According to Data Dictionary on National Codes for ethnicity the groups signify the following;\n",
    "        Group A - White - British\n",
    "        Group B - White - Irish\n",
    "        Group C - White - Any other White background\n",
    "        Group D - Mixed - White and Black Caribbean\n",
    "        Group E - Mixed - White and Black African\n",
    "        Group F - Mixed - White and Asian\n",
    "        Group G - Mixed - Any other mixed background\n",
    "    3) parental level of education - уровень обазования родителей\n",
    "        bachelor's degree - закончил(а) бакалавриат\n",
    "        some college - закончил(а) колледж \n",
    "        master's degree - закончил(а) магистратуру\n",
    "        associate's degree - степень младшего специалиста\n",
    "        high school - закончил(а) среднюю школу\n",
    "        some high school - ... (возможно неоконченная средняя школа)\n",
    "    4) lunch - обед\n",
    "        standard - стандартный обед\n",
    "        free/reduced - бесплатный/скидочный обед\n",
    "    5) test preparation course - курс подготовки к экзаменам\n",
    "        none - не проходил(а)\n",
    "        completed - проходил(а)\n",
    "    6) math score - оценки по математике (от 0 до 100)\n",
    "    7) reading score - оценки по чтению (от 0 до 100)\n",
    "    8) writing score - оценки по письму (от 0 до 100)\n",
    "\n",
    "2. 2 категореальных признака: 'race/ethnicity', 'parental level of education'\n",
    "3. Столбец с максимальным количеством уникальных значений категориального признака - 'parental level of education', 6 значений\n",
    "4. 'gender', 'lunch', 'test preparation' - бинарные признаки\n",
    "5. 'math score', 'reading score', 'writing score' - числовые признаки\n",
    "\n",
    "6,7,8. пропусков нет\n",
    "\n",
    "9. выбросов в данных нет\n",
    "10. Столбец с максимальным средним значением после нормировки признаков через стандартное отклонение - 'reading score'\n",
    "    Макисмальное среднее  =  2.1671553440683055e-16 - после нормализации;\n",
    "                             69.169000 - до нормализации\n",
    "11. Целевые признаки: 'math score', 'reading score', 'writing score' (будем использовать 'math score')\n",
    "12. При использовании train_test_split с параметрами test_size = 0.3, random_state = 42, для каждого из целевых признаков в тренировочную выборку попадают 700 объектов\n",
    "13. Сильно коррелируют между собой 3 признака: 'math score', 'reading score', 'writing score'\n",
    "    друг с другом у всех corr>80%\n",
    "14. Для описания 90% дисперсии данных достаточно 9 компонентов.\n",
    "15. 'race/ethnicity_group C' вносит наибольший вклад в первую компоненту\n",
    "16. Визуально данные можно разделить на 4 кластера."
   ]
  }
 ],
 "metadata": {
  "kernelspec": {
   "display_name": "Python 3",
   "language": "python",
   "name": "python3"
  },
  "language_info": {
   "codemirror_mode": {
    "name": "ipython",
    "version": 3
   },
   "file_extension": ".py",
   "mimetype": "text/x-python",
   "name": "python",
   "nbconvert_exporter": "python",
   "pygments_lexer": "ipython3",
   "version": "3.11.7"
  }
 },
 "nbformat": 4,
 "nbformat_minor": 2
}
